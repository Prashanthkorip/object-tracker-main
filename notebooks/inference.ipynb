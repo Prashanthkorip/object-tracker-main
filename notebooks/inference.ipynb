{
 "cells": [
  {
   "cell_type": "code",
   "execution_count": 25,
   "metadata": {},
   "outputs": [],
   "source": [
    "import argparse\n",
    "import os\n",
    "import os.path as osp\n",
    "import sys\n",
    "from glob import glob\n",
    "\n",
    "import cv2\n",
    "import numpy as np\n",
    "import torch\n",
    "import torch.nn.functional as F\n",
    "from torch.utils.data import DataLoader, Dataset\n",
    "from tqdm import tqdm\n",
    "\n",
    "os.chdir(\"/home/017534556/projects/cmpe_297/object_tracker\")"
   ]
  },
  {
   "cell_type": "code",
   "execution_count": 26,
   "metadata": {
    "metadata": {}
   },
   "outputs": [],
   "source": [
    "import flow_vis as fv\n",
    "import lovely_numpy as ln\n",
    "import lovely_tensors as lt\n",
    "import matplotlib.pyplot as plt\n",
    "\n",
    "from agflow_main.core.raft_agflow import AGFlow\n",
    "from agflow_main.core.utils import flow_viz, frame_utils\n",
    "from agflow_main.core.utils.augmentor import FlowAugmentor, SparseFlowAugmentor\n",
    "\n",
    "torch.set_grad_enabled(False)\n",
    "sys.path.append(\"/home/017534556/projects/cmpe_297/object_tracker/agflow_main\")"
   ]
  },
  {
   "cell_type": "code",
   "execution_count": 27,
   "metadata": {
    "metadata": {}
   },
   "outputs": [],
   "source": [
    "args = {\n",
    "    \"model\": \"/scratch/cmpe297-sp24/agflow/weights/agflow-sintel.pth\",\n",
    "    \"dataset\": \"kitti\",\n",
    "    \"mixed_precision\": True,\n",
    "}\n",
    "args = argparse.Namespace(**args)"
   ]
  },
  {
   "cell_type": "code",
   "execution_count": 28,
   "metadata": {
    "metadata": {}
   },
   "outputs": [
    {
     "name": "stdout",
     "output_type": "stream",
     "text": [
      "=== Model: AGFlow ===\n"
     ]
    }
   ],
   "source": [
    "model = torch.nn.DataParallel(AGFlow(args))\n",
    "model.load_state_dict(torch.load(args.model))\n",
    "model = model.eval()\n",
    "model = model.cuda()"
   ]
  },
  {
   "cell_type": "code",
   "execution_count": 30,
   "metadata": {
    "metadata": {}
   },
   "outputs": [],
   "source": [
    "class Video:\n",
    "    def __init__(self, video_path, target_fps=None):\n",
    "        self.video_path = video_path\n",
    "        self.target_fps = target_fps\n",
    "\n",
    "        self.input_frames_folder = \"/home/017534556/projects/cmpe_297/object_tracker/notebooks/temp_frames/input_frames\"\n",
    "        self.output_frames_folder = \"/home/017534556/projects/cmpe_297/object_tracker/notebooks/temp_frames/output_frames\"\n",
    "\n",
    "        os.makedirs(self.output_frames_folder, exist_ok=True)\n",
    "        os.makedirs(self.input_frames_folder, exist_ok=True)\n",
    "        self.reset()\n",
    "\n",
    "        self.video_to_images(self.video_path, mode=\"input\")\n",
    "\n",
    "    def delete_files_in_folder(self, folder):\n",
    "        for f in os.listdir(folder):\n",
    "            os.remove(os.path.join(folder, f))\n",
    "\n",
    "    def reset(self):\n",
    "        self.delete_files_in_folder(self.input_frames_folder)\n",
    "        self.delete_files_in_folder(self.output_frames_folder)\n",
    "\n",
    "    def create_output_video(self):\n",
    "        assert (\n",
    "            len(os.listdir(self.output_frames_folder)) > 0\n",
    "        ), \"No output frames found, run the model and save the output frames to convert to model\"\n",
    "        self.output_video_location = \"/home/017534556/projects/cmpe_297/object_tracker/notebooks/videos/output_video.mp4\"\n",
    "        self.images_to_video(\n",
    "            self.output_frames_folder,\n",
    "            self.output_video_location,\n",
    "        )\n",
    "        return f\"Output video created successfully at {self.output_video_location}\"\n",
    "\n",
    "    def create_input_video(self):\n",
    "        assert len(os.listdir(self.input_frames_folder)) > 0, \"No input frames found\"\n",
    "        self.input_video_location = \"/home/017534556/projects/cmpe_297/object_tracker/notebooks/videos/input_video.mp4\"\n",
    "        self.images_to_video(\n",
    "            self.input_frames_folder,\n",
    "            self.input_video_location,\n",
    "        )\n",
    "        return f\"Input video created successfully at {self.input_video_location}\"\n",
    "\n",
    "    def video_to_images(self, video_path, mode):\n",
    "        # Create the output folder if it doesn't exist\n",
    "        output_folder = f\"/home/017534556/projects/cmpe_297/object_tracker/notebooks/temp_frames/{mode}_frames\"\n",
    "\n",
    "        # Open the video file\n",
    "        cap = cv2.VideoCapture(video_path)\n",
    "        success, image = cap.read()\n",
    "        count = 0\n",
    "\n",
    "        frame_rate = cap.get(cv2.CAP_PROP_FPS)\n",
    "        self.fps = frame_rate\n",
    "        if self.target_fps is not None:\n",
    "            frame_skip = int(round(frame_rate / self.target_fps))\n",
    "        else:\n",
    "            frame_skip = 1\n",
    "\n",
    "        # Loop through the video frames\n",
    "        while success:\n",
    "            # Save the frame as a JPEG image\n",
    "            if count % frame_skip == 0:\n",
    "                frame_path = os.path.join(output_folder, f\"frame_{count:04d}.jpg\")\n",
    "                cv2.imwrite(frame_path, image)\n",
    "\n",
    "            # Read the next frame\n",
    "            success, image = cap.read()\n",
    "            count += 1\n",
    "\n",
    "        cap.release()\n",
    "\n",
    "    def images_to_video(self, folder, output_path):\n",
    "        # Get the list of image files\n",
    "        files = glob(osp.join(folder, \"*.png\"))\n",
    "        if len(files) == 0:\n",
    "            files = glob(osp.join(folder, \"*.jpg\"))\n",
    "\n",
    "        # Open the first image and get the dimensions\n",
    "        image = cv2.imread(files[0])\n",
    "        height, width, layers = image.shape\n",
    "\n",
    "        # Create a video writer\n",
    "        fourcc = cv2.VideoWriter_fourcc(*\"mp4v\")\n",
    "        out = cv2.VideoWriter(output_path, fourcc, self.fps, (width, height))\n",
    "\n",
    "        # Write the images to the video\n",
    "        for file in files:\n",
    "            image = cv2.imread(file)\n",
    "            out.write(image)\n",
    "\n",
    "        out.release()\n",
    "\n",
    "\n",
    "v = Video(\n",
    "    video_path=\"/home/017534556/projects/cmpe_297/object_tracker/test_1_crop.mp4\"\n",
    ")"
   ]
  },
  {
   "cell_type": "code",
   "execution_count": 38,
   "metadata": {
    "metadata": {}
   },
   "outputs": [],
   "source": [
    "class AnyDataset(Dataset):\n",
    "    def __init__(self, aug_params=None, sparse=True, root=None):\n",
    "        self.augmentor = None\n",
    "        self.sparse = sparse\n",
    "        self.split = \"testing\"\n",
    "        self.is_test = True\n",
    "        if aug_params is not None:\n",
    "            if sparse:\n",
    "                self.augmentor = SparseFlowAugmentor(**aug_params)\n",
    "            else:\n",
    "                self.augmentor = FlowAugmentor(**aug_params)\n",
    "\n",
    "        self.is_test = False\n",
    "        self.init_seed = False\n",
    "        self.flow_list = []\n",
    "        self.image_list = []\n",
    "        self.extra_info = []\n",
    "\n",
    "        assert (\n",
    "            root is not None\n",
    "        ), \"Specify a directory which has png files derived from video\"\n",
    "\n",
    "        all_images = sorted(glob(osp.join(root, \"*.jpg\")))\n",
    "\n",
    "        images1 = all_images[:-1]\n",
    "        images2 = all_images[1:]\n",
    "\n",
    "        for idx, (i1, i2) in enumerate(zip(images1, images2)):\n",
    "            self.extra_info += [[idx]]\n",
    "            self.image_list += [[i1, i2]]\n",
    "\n",
    "    def __len__(self):\n",
    "        return len(self.image_list)\n",
    "\n",
    "    def __getitem__(self, index):\n",
    "        img1 = frame_utils.read_gen(self.image_list[index][0])\n",
    "        img2 = frame_utils.read_gen(self.image_list[index][1])\n",
    "\n",
    "        img1 = np.array(img1).astype(np.uint8)[..., :3]\n",
    "        img2 = np.array(img2).astype(np.uint8)[..., :3]\n",
    "\n",
    "        img1 = torch.from_numpy(img1).permute(2, 0, 1).float()\n",
    "        img2 = torch.from_numpy(img2).permute(2, 0, 1).float()\n",
    "        return img1, img2, self.extra_info[index]"
   ]
  },
  {
   "cell_type": "code",
   "execution_count": 32,
   "metadata": {
    "metadata": {}
   },
   "outputs": [
    {
     "data": {
      "text/plain": [
       "386"
      ]
     },
     "execution_count": 32,
     "metadata": {},
     "output_type": "execute_result"
    }
   ],
   "source": [
    "inference_dataloader = DataLoader(\n",
    "    AnyDataset(root=v.input_frames_folder),\n",
    "    batch_size=1,\n",
    "    shuffle=False,\n",
    "    num_workers=1,\n",
    "    pin_memory=False,\n",
    ")\n",
    "len(inference_dataloader)"
   ]
  },
  {
   "cell_type": "code",
   "execution_count": 33,
   "metadata": {
    "metadata": {}
   },
   "outputs": [],
   "source": [
    "class InputPadder:\n",
    "    \"\"\"Pads images such that dimensions are divisible by 8\"\"\"\n",
    "\n",
    "    def __init__(self, dims, mode=\"sintel\"):\n",
    "        self.ht, self.wd = dims[-2:]\n",
    "        pad_ht = (((self.ht // 8) + 1) * 8 - self.ht) % 8\n",
    "        pad_wd = (((self.wd // 8) + 1) * 8 - self.wd) % 8\n",
    "        if mode == \"sintel\":\n",
    "            self._pad = [\n",
    "                pad_wd // 2,\n",
    "                pad_wd - pad_wd // 2,\n",
    "                pad_ht // 2,\n",
    "                pad_ht - pad_ht // 2,\n",
    "            ]\n",
    "        else:\n",
    "            self._pad = [pad_wd // 2, pad_wd - pad_wd // 2, 0, pad_ht]\n",
    "\n",
    "    def pad(self, *inputs):\n",
    "        return [F.pad(x, self._pad, mode=\"replicate\") for x in inputs]\n",
    "\n",
    "    def unpad(self, x):\n",
    "        ht, wd = x.shape[-2:]\n",
    "        c = [self._pad[2], ht - self._pad[3], self._pad[0], wd - self._pad[1]]\n",
    "        return x[..., c[0] : c[1], c[2] : c[3]]"
   ]
  },
  {
   "cell_type": "markdown",
   "metadata": {},
   "source": [
    "Best 128 -> anything above is useless"
   ]
  },
  {
   "cell_type": "code",
   "execution_count": 34,
   "metadata": {
    "metadata": {}
   },
   "outputs": [
    {
     "name": "stderr",
     "output_type": "stream",
     "text": [
      "100%|██████████| 386/386 [02:02<00:00,  3.16it/s]\n"
     ]
    }
   ],
   "source": [
    "iterations_to_run_raft = 24\n",
    "flows = []\n",
    "for idx, (img1, img2, extra_info) in tqdm(\n",
    "    enumerate(inference_dataloader), total=len(inference_dataloader)\n",
    "):\n",
    "    frame_id = str(extra_info[0].item())\n",
    "    padder = InputPadder(img1.shape, mode=\"kitti\")\n",
    "    img1, img2 = padder.pad(img1.cuda(), img2.cuda())\n",
    "    _, flow_pr = model(img1, img2, iters=iterations_to_run_raft, test_mode=True)\n",
    "    flow = padder.unpad(flow_pr[0]).permute(1, 2, 0).detach().cpu().numpy()\n",
    "    flows.append(flow)\n",
    "    output_filename = os.path.join(v.output_frames_folder, frame_id) + \".jpg\"\n",
    "    # write flow to disk wha\n",
    "    flow_image = flow_viz.flow_to_image(flow)\n",
    "    plt.imsave(output_filename, flow_image)"
   ]
  },
  {
   "cell_type": "code",
   "execution_count": 41,
   "metadata": {
    "metadata": {}
   },
   "outputs": [
    {
     "data": {
      "text/plain": [
       "<matplotlib.image.AxesImage at 0x7f2e7887c910>"
      ]
     },
     "execution_count": 41,
     "metadata": {},
     "output_type": "execute_result"
    },
    {
     "data": {
      "image/png": "[encoded data removed]",
      "text/plain": [
       "<Figure size 640x480 with 1 Axes>"
      ]
     },
     "metadata": {},
     "output_type": "display_data"
    }
   ],
   "source": [
    "flow_color = fv.flow_to_color(flows[60])\n",
    "plt.imshow(flow_color)"
   ]
  },
  {
   "cell_type": "code",
   "execution_count": 36,
   "metadata": {
    "metadata": {}
   },
   "outputs": [
    {
     "data": {
      "text/plain": [
       "'Output video created successfully at /home/017534556/projects/cmpe_297/object_tracker/notebooks/videos/output_video.mp4'"
      ]
     },
     "execution_count": 36,
     "metadata": {},
     "output_type": "execute_result"
    }
   ],
   "source": [
    "v.create_output_video()"
   ]
  },
  {
   "cell_type": "code",
   "execution_count": 37,
   "metadata": {},
   "outputs": [
    {
     "data": {
      "text/plain": [
       "'Input video created successfully at /home/017534556/projects/cmpe_297/object_tracker/notebooks/videos/input_video.mp4'"
      ]
     },
     "execution_count": 37,
     "metadata": {},
     "output_type": "execute_result"
    }
   ],
   "source": [
    "v.create_input_video()"
   ]
  },
  {
   "cell_type": "markdown",
   "metadata": {},
   "source": [
    "- Try putting a threshold for flow to be considered\n",
    "- Try background subtraction"
   ]
  }
 ],
 "metadata": {
  "kernelspec": {
   "display_name": "cmpe_297",
   "language": "python",
   "name": "python3"
  },
  "language_info": {
   "codemirror_mode": {
    "name": "ipython",
    "version": 3
   },
   "file_extension": ".py",
   "mimetype": "text/x-python",
   "name": "python",
   "nbconvert_exporter": "python",
   "pygments_lexer": "ipython3",
   "version": "3.10.8"
  }
 },
 "nbformat": 4,
 "nbformat_minor": 2
}
