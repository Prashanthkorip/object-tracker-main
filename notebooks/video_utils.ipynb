{
 "cells": [
  {
   "cell_type": "code",
   "execution_count": 3,
   "metadata": {},
   "outputs": [],
   "source": [
    "import cv2\n",
    "import os"
   ]
  },
  {
   "cell_type": "code",
   "execution_count": 16,
   "metadata": {},
   "outputs": [],
   "source": [
    "def extract_frames(video_path, output_folder, target_fps=None):\n",
    "    # Create the output folder if it doesn't exist\n",
    "    os.makedirs(output_folder, exist_ok=True)\n",
    "    \n",
    "    # Open the video file\n",
    "    cap = cv2.VideoCapture(video_path)\n",
    "    success, image = cap.read()\n",
    "    count = 0\n",
    "    frame_rate = cap.get(cv2.CAP_PROP_FPS)\n",
    "    if target_fps is not None:\n",
    "        frame_skip = int(round(frame_rate / target_fps))\n",
    "    else:\n",
    "        frame_skip = 1\n",
    "\n",
    "    # Loop through the video frames\n",
    "    while success:\n",
    "        # Save the frame as a JPEG image\n",
    "        if count % frame_skip == 0:\n",
    "            frame_path = os.path.join(output_folder, f\"frame_{count:04d}.jpg\")\n",
    "            cv2.imwrite(frame_path, image)\n",
    "\n",
    "        # Read the next frame\n",
    "        success, image = cap.read()\n",
    "        count += 1\n",
    "\n",
    "    cap.release()\n",
    "\n",
    "# Path to the video file\n",
    "video_path = \"/home/017534556/projects/cmpe_297/object_tracker/notebooks/rolling_ball.MOV\"\n",
    "# Output folder where frames will be saved\n",
    "output_folder = \"/home/017534556/projects/cmpe_297/object_tracker/notebooks/rolling_ball\"\n",
    "\n",
    "# Extract frames\n",
    "extract_frames(video_path, output_folder)\n"
   ]
  },
  {
   "cell_type": "code",
   "execution_count": 2,
   "metadata": {},
   "outputs": [],
   "source": [
    "def frames_to_video(input_folder, output_video_path, frame_rate=10):\n",
    "    # Get the list of frames in the input folder\n",
    "    frames = [f for f in os.listdir(input_folder) if os.path.isfile(os.path.join(input_folder, f))]\n",
    "    frames.sort()\n",
    "\n",
    "    # Determine the frame size from the first frame\n",
    "    frame_path = os.path.join(input_folder, frames[0])\n",
    "    frame = cv2.imread(frame_path)\n",
    "    frame_height, frame_width, _ = frame.shape\n",
    "\n",
    "    # Initialize VideoWriter object\n",
    "    out = cv2.VideoWriter(output_video_path, cv2.VideoWriter_fourcc(*'mp4v'), frame_rate, (frame_width, frame_height))\n",
    "\n",
    "    # Write frames to the video\n",
    "    for frame_name in frames:\n",
    "        frame_path = os.path.join(input_folder, frame_name)\n",
    "        frame = cv2.imread(frame_path)\n",
    "        out.write(frame)\n",
    "\n",
    "    out.release()"
   ]
  },
  {
   "cell_type": "code",
   "execution_count": 5,
   "metadata": {},
   "outputs": [],
   "source": [
    "\n",
    "# Path to the folder containing frames\n",
    "input_folder = \"/home/017534556/projects/cmpe_297/object_tracker/notebooks/input_rolling\"\n",
    "output_folder = \"/home/017534556/projects/cmpe_297/object_tracker/notebooks/outputs_rolling\"\n",
    "# Output video path\n",
    "input_video_path = \"/home/017534556/projects/cmpe_297/object_tracker/notebooks/input_rolling.mp4\"\n",
    "output_video_path = \"/home/017534556/projects/cmpe_297/object_tracker/notebooks/outputs_rolling.mp4\"\n",
    "# Frame rate of the output video (should match the frame rate used during frame extraction)\n",
    "frame_rate = 10\n",
    "\n",
    "# Convert frames to video\n",
    "# frames_to_video(input_folder, input_video_path, frame_rate)\n",
    "frames_to_video(output_folder, output_video_path, frame_rate)"
   ]
  },
  {
   "cell_type": "code",
   "execution_count": 4,
   "metadata": {},
   "outputs": [],
   "source": [
    "\n",
    "# Path to the folder containing frames\n",
    "input_folder = \"/home/017534556/projects/cmpe_297/object_tracker/notebooks/rolling_ball\"\n",
    "output_folder = \"/home/017534556/projects/cmpe_297/object_tracker/notebooks/rolling_ball_outputs\"\n",
    "# Output video path\n",
    "input_video_path = \"/home/017534556/projects/cmpe_297/object_tracker/notebooks/rolling_ball.mp4\"\n",
    "output_video_path = \"/home/017534556/projects/cmpe_297/object_tracker/notebooks/rolling_ball_outputs.mp4\"\n",
    "# Frame rate of the output video (should match the frame rate used during frame extraction)\n",
    "frame_rate = 10\n",
    "\n",
    "# Convert frames to video\n",
    "# frames_to_video(input_folder, input_video_path, frame_rate)\n",
    "frames_to_video(output_folder, output_video_path, frame_rate)"
   ]
  }
 ],
 "metadata": {
  "kernelspec": {
   "display_name": "cmpe_297",
   "language": "python",
   "name": "python3"
  },
  "language_info": {
   "codemirror_mode": {
    "name": "ipython",
    "version": 3
   },
   "file_extension": ".py",
   "mimetype": "text/x-python",
   "name": "python",
   "nbconvert_exporter": "python",
   "pygments_lexer": "ipython3",
   "version": "3.10.8"
  }
 },
 "nbformat": 4,
 "nbformat_minor": 2
}
